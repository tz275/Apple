{
 "cells": [
  {
   "cell_type": "code",
   "execution_count": 46,
   "metadata": {},
   "outputs": [],
   "source": [
    "from selenium import webdriver\n",
    "import time\n",
    "from selenium.webdriver.common.by import By\n",
    "import re\n",
    "import random\n",
    "import json"
   ]
  },
  {
   "cell_type": "code",
   "execution_count": 55,
   "metadata": {},
   "outputs": [
    {
     "name": "stderr",
     "output_type": "stream",
     "text": [
      "/var/folders/yh/d_jgns49545bkkpm4rst2c_80000gn/T/ipykernel_99969/2528131218.py:1: DeprecationWarning: executable_path has been deprecated, please pass in a Service object\n",
      "  wd = webdriver.Chrome(r'/Users/tingkangzhao/SeleniumDriver/chromedriver')\n"
     ]
    }
   ],
   "source": [
    "wd = webdriver.Chrome(r'/Users/tingkangzhao/SeleniumDriver/chromedriver')\n",
    "wd.implicitly_wait(10)"
   ]
  },
  {
   "cell_type": "code",
   "execution_count": 56,
   "metadata": {},
   "outputs": [],
   "source": [
    "# software, machine learning, technology, data, engineer\n",
    "url = \"https://jobs.apple.com/en-us/search?sort=relevance&key=software+data+engineer+machine%252520learning+technology&location=united-states-USA\"\n",
    "\n",
    "wd.get(url)"
   ]
  },
  {
   "cell_type": "code",
   "execution_count": 4,
   "metadata": {},
   "outputs": [],
   "source": [
    "def nextPage():\n",
    "    wd.find_element(By.CSS_SELECTOR, \"#translations-container > div:nth-child(2) > main > div.results-area--search-term.results-area1.results-area-hldr.clearfix > section.results-right > div.results > div.results-pagination > nav > ul > li.pagination__next > span > a > span.next\").click()\n"
   ]
  },
  {
   "cell_type": "code",
   "execution_count": 50,
   "metadata": {},
   "outputs": [],
   "source": [
    "def getTotalPages():\n",
    "    count = wd.find_element(By.CSS_SELECTOR, \"#frmPagination > span:nth-child(3)\").text\n",
    "    return count"
   ]
  },
  {
   "cell_type": "code",
   "execution_count": 51,
   "metadata": {},
   "outputs": [],
   "source": [
    "#regex = re.compile(r\"^accordion_\")\n",
    "#'#%s' % regex)\n",
    "for i in wd.find_elements(By.CSS_SELECTOR, \"tbody\"):  \n",
    "    title = i.find_element(By.CSS_SELECTOR, '.table-col-1>a').text\n",
    "    href = i.find_element(By.CSS_SELECTOR, '.table-col-1>a').get_attribute(\"href\")\n",
    "    id = i.find_element(By.CSS_SELECTOR, '.table-col-1>a').get_attribute(\"id\")\n",
    "    loaction = i.find_element(By.CSS_SELECTOR, \".table-col-2\").text\n"
   ]
  },
  {
   "cell_type": "code",
   "execution_count": 52,
   "metadata": {},
   "outputs": [],
   "source": [
    "def getNumbers(target):\n",
    "    temp = \"\"\n",
    "    for i in target:\n",
    "        try:\n",
    "         temp += str(int(i))\n",
    "        except:\n",
    "         pass\n",
    "    return temp"
   ]
  },
  {
   "cell_type": "code",
   "execution_count": 53,
   "metadata": {},
   "outputs": [],
   "source": [
    "def saveFile(file, index):\n",
    "    with open(f\"apple{index}.json\", 'w') as f:\n",
    "        json.dump(file, f)"
   ]
  },
  {
   "cell_type": "code",
   "execution_count": 61,
   "metadata": {},
   "outputs": [],
   "source": [
    "import requests\n",
    "from bs4 import BeautifulSoup\n",
    "\n",
    "url = \"https://jobs.apple.com/en-us/details/200440330/aiml-sr-manager-speech-technologies-product-program-management?team=MLAI\"\n",
    "\n",
    "session = requests.Session()\n",
    "headers = {\n",
    "        'User-Agent' : 'Mozilla/5.0 (X11; Ubuntu; Linux x86_64; rv:46.0) Gecko/20100101 Firefox/46.0',\n",
    "        'Content-Type': 'application/x-www-form-urlencoded',\n",
    "        'Connection' : 'Keep-Alive',\n",
    "        'Accept':'text/html,application/xhtml+xml,application/xml;q=0.9,*/*;q=0.8'\n",
    "}\n",
    "url_obj = session.get(url, headers = headers)\n",
    "bs = BeautifulSoup(url_obj.text, \"html.parser\")\n"
   ]
  },
  {
   "cell_type": "code",
   "execution_count": 57,
   "metadata": {},
   "outputs": [],
   "source": [
    "# get all the job urls\n",
    "count = 0\n",
    "file_index = 0\n",
    "jobs_dic = {}\n",
    "while True:\n",
    "    for i in wd.find_elements(By.CSS_SELECTOR, \"tbody\"):  \n",
    "        job_dic = {}\n",
    "        title = i.find_element(By.CSS_SELECTOR, '.table-col-1>a').text\n",
    "        href = i.find_element(By.CSS_SELECTOR, '.table-col-1>a').get_attribute(\"href\")\n",
    "        location = i.find_element(By.CSS_SELECTOR, \".table-col-2\").text\n",
    "        id = i.find_element(By.CSS_SELECTOR, '.table-col-1>a').get_attribute(\"id\")\n",
    "        id = getNumbers(id)\n",
    "        job_dic[\"jobID\"] = id\n",
    "        job_dic[\"jobTitle\"] = title\n",
    "        job_dic[\"link\"] = href\n",
    "        job_dic[\"jobLocation\"] = {\"remote\": \"not specified\", \"city\": location, \"state\": None, \"country\": \"US\"}\n",
    "        jobs_dic[id] = job_dic\n",
    "        count += 1\n",
    "\n",
    "    if count >= 100:\n",
    "        count = 0\n",
    "        file_index += 1\n",
    "        saveFile(jobs_dic, file_index)\n",
    "        jobs_dic = {}\n",
    "\n",
    "    time.sleep(random.randint(5, 13))\n",
    "    try:\n",
    "      nextPage()\n",
    "    except:\n",
    "        break"
   ]
  },
  {
   "cell_type": "code",
   "execution_count": 103,
   "metadata": {},
   "outputs": [
    {
     "data": {
      "text/plain": [
       "<div class=\"jd__row--main jd__summary\" id=\"jd-key-qualifications\"><ul class=\"jd__list\" role=\"list\"><li role=\"listitem\"><span>10+ years experience in Product, Program or Project Management, or similar role leading cross-functional product or software engineering teams</span></li><li role=\"listitem\"><span>5+ years experience bringing a product from concept to completion, ideally working on speech recognition, machine-learned systems, and/or sophisticated backend and front-end systems</span></li><li role=\"listitem\"><span>5+ years in people management experience - Experience recruiting and building successful teams of product and program managers</span></li><li role=\"listitem\"><span>Deep understanding of software development for machine-learned products and services, and how analytics and evaluation data can help improve those products</span></li><li role=\"listitem\"><span>Self-sufficient in analyzing and drawing conclusions about the quality and product opportunity from raw and refined product data</span></li><li role=\"listitem\"><span>Great product sense, with the ability to translate between product goals, business goals into technical requirements for large, zero to one product launches</span></li><li role=\"listitem\"><span>Self-motivated and proactive, with demonstrated creative and critical thinking capabilities</span></li><li role=\"listitem\"><span>Outstanding communication and presentation abilities, written and verbal, to all levels of an organization</span></li><li role=\"listitem\"><span>Highly developed capability to, directly and indirectly, lead large teams for success</span></li><li role=\"listitem\"><span>Able to align product roadmaps across large organizations while still being able to dive into the details when necessary to drive key strategic product ideation</span></li><li role=\"listitem\"><span>Player-coach capable of personally leading large products while coaching team members along the way</span></li></ul></div>"
      ]
     },
     "execution_count": 103,
     "metadata": {},
     "output_type": "execute_result"
    }
   ],
   "source": [
    "time = bs.time.text\n",
    "summary = bs.find(\"div\", {'id': \"jd-job-summary\", 'class': \"jd__row--main jd__summary--main\"}).text\n",
    "qualifications = bs.find(\"div\", {'id':'jd-key-qualifications'})\n",
    "major_requirement = bs.find(\"div\", {\"id\":'jd-education-experience'}).text\n",
    "degree_requirement = bs.find('div', {\"id\":\"jd-additional-requirements\"}).text\n",
    "qualifications\n",
    "\n"
   ]
  },
  {
   "cell_type": "code",
   "execution_count": 121,
   "metadata": {},
   "outputs": [],
   "source": [
    "def educationRequirement(target):\n",
    "    banchlor, ms, phd = None, None, None\n",
    "    temp = \"\"\n",
    "    if \"BS\" in target:\n",
    "        temp += \"banchelors\"\n",
    "    if \"M.S.\" in target or \"MS\" in target:\n",
    "        if not temp:\n",
    "            temp += \"masters\"\n",
    "        else:\n",
    "            temp += \" | masters\"\n",
    "    if \"Ph.D.\" in target:\n",
    "        if not temp:\n",
    "            temp += \"phd\"\n",
    "        else:\n",
    "            temp += \"| phd\"\n",
    "    if not banchlor and not ms and not phd:\n",
    "        return {\"education\" : None, \"major\" : target}\n",
    "    return {\"education\": temp, \"major\" : target}"
   ]
  },
  {
   "cell_type": "code",
   "execution_count": 119,
   "metadata": {},
   "outputs": [
    {
     "data": {
      "text/plain": [
       "(True, True, True)"
      ]
     },
     "execution_count": 119,
     "metadata": {},
     "output_type": "execute_result"
    }
   ],
   "source": [
    "educationRequirement(major_requirement + degree_requirement)"
   ]
  },
  {
   "cell_type": "code",
   "execution_count": 123,
   "metadata": {},
   "outputs": [
    {
     "data": {
      "text/plain": [
       "{'education': None, 'major': 'BS/MS/PhD EE/CS/CE or equivalent'}"
      ]
     },
     "execution_count": 123,
     "metadata": {},
     "output_type": "execute_result"
    }
   ],
   "source": [
    "educationRequirement(major_requirement)"
   ]
  },
  {
   "cell_type": "code",
   "execution_count": 124,
   "metadata": {},
   "outputs": [],
   "source": []
  },
  {
   "cell_type": "code",
   "execution_count": 145,
   "metadata": {},
   "outputs": [],
   "source": [
    "def getSalary(target):\n",
    "    if not target:\n",
    "        return [None] * 2\n",
    "    ret = []\n",
    "    for i in target.split(' '):\n",
    "        if re.match(r\"^\\$\", i):\n",
    "            ret.append(i)\n",
    "    return ret\n"
   ]
  },
  {
   "cell_type": "code",
   "execution_count": 146,
   "metadata": {},
   "outputs": [
    {
     "data": {
      "text/plain": [
       "[None, None]"
      ]
     },
     "execution_count": 146,
     "metadata": {},
     "output_type": "execute_result"
    }
   ],
   "source": [
    "getSalary(None)"
   ]
  },
  {
   "cell_type": "code",
   "execution_count": 151,
   "metadata": {},
   "outputs": [
    {
     "data": {
      "text/plain": [
       "[]"
      ]
     },
     "execution_count": 151,
     "metadata": {},
     "output_type": "execute_result"
    }
   ],
   "source": [
    "[] * 2"
   ]
  },
  {
   "cell_type": "code",
   "execution_count": null,
   "metadata": {},
   "outputs": [],
   "source": []
  }
 ],
 "metadata": {
  "kernelspec": {
   "display_name": "base",
   "language": "python",
   "name": "python3"
  },
  "language_info": {
   "codemirror_mode": {
    "name": "ipython",
    "version": 3
   },
   "file_extension": ".py",
   "mimetype": "text/x-python",
   "name": "python",
   "nbconvert_exporter": "python",
   "pygments_lexer": "ipython3",
   "version": "3.8.2"
  },
  "orig_nbformat": 4,
  "vscode": {
   "interpreter": {
    "hash": "40d3a090f54c6569ab1632332b64b2c03c39dcf918b08424e98f38b5ae0af88f"
   }
  }
 },
 "nbformat": 4,
 "nbformat_minor": 2
}
